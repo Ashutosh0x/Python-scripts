{
 "cells": [
  {
   "cell_type": "code",
   "execution_count": 1,
   "metadata": {},
   "outputs": [
    {
     "name": "stdout",
     "output_type": "stream",
     "text": [
      "Welcome to the Multi-Base Encoder!\n",
      "This tool encodes your text into Binary, Octal, Decimal, Hexadecimal, Base-32, and Base-64 formats.\n",
      "\n",
      "\n",
      "Encoded text in various bases:\n",
      "Base-2 (Binary): 01100001 01110011 01101000 01110101 01110100 01101111 01110011 01101000\n",
      "Base-8 (Octal): 141 163 150 165 164 157 163 150\n",
      "Base-10 (Decimal): 97 115 104 117 116 111 115 104\n",
      "Base-16 (Hexadecimal): 61 73 68 75 74 6f 73 68\n",
      "Base-32: MFZWQ5LUN5ZWQ===\n",
      "Base-64: YXNodXRvc2g=\n"
     ]
    }
   ],
   "source": [
    "import base64\n",
    "\n",
    "def text_to_binary(text):\n",
    "    return ' '.join(format(ord(char), '08b') for char in text)\n",
    "\n",
    "def text_to_octal(text):\n",
    "    return ' '.join(format(ord(char), '03o') for char in text)\n",
    "\n",
    "def text_to_decimal(text):\n",
    "    return ' '.join(str(ord(char)) for char in text)\n",
    "\n",
    "def text_to_hex(text):\n",
    "    return ' '.join(format(ord(char), '02x') for char in text)\n",
    "\n",
    "def text_to_base32(text):\n",
    "    encoded = base64.b32encode(text.encode())\n",
    "    return encoded.decode()\n",
    "\n",
    "def text_to_base64(text):\n",
    "    encoded = base64.b64encode(text.encode())\n",
    "    return encoded.decode()\n",
    "\n",
    "def main():\n",
    "    print(\"Welcome to the Multi-Base Encoder!\")\n",
    "    print(\"This tool encodes your text into Binary, Octal, Decimal, Hexadecimal, Base-32, and Base-64 formats.\\n\")\n",
    "    \n",
    "    try:\n",
    "        text = input(\"Enter the plain text to be encoded: \")\n",
    "        \n",
    "        binary = text_to_binary(text)\n",
    "        octal = text_to_octal(text)\n",
    "        decimal = text_to_decimal(text)\n",
    "        hexadecimal = text_to_hex(text)\n",
    "        base32 = text_to_base32(text)\n",
    "        base64 = text_to_base64(text)\n",
    "        \n",
    "        print(\"\\nEncoded text in various bases:\")\n",
    "        print(f\"Base-2 (Binary): {binary}\")\n",
    "        print(f\"Base-8 (Octal): {octal}\")\n",
    "        print(f\"Base-10 (Decimal): {decimal}\")\n",
    "        print(f\"Base-16 (Hexadecimal): {hexadecimal}\")\n",
    "        print(f\"Base-32: {base32}\")\n",
    "        print(f\"Base-64: {base64}\")\n",
    "    except Exception as e:\n",
    "        print(f\"An error occurred: {e}\")\n",
    "\n",
    "if __name__ == \"__main__\":\n",
    "    main()"
   ]
  }
 ],
 "metadata": {
  "kernelspec": {
   "display_name": "Python 3",
   "language": "python",
   "name": "python3"
  },
  "language_info": {
   "codemirror_mode": {
    "name": "ipython",
    "version": 3
   },
   "file_extension": ".py",
   "mimetype": "text/x-python",
   "name": "python",
   "nbconvert_exporter": "python",
   "pygments_lexer": "ipython3",
   "version": "3.10.0"
  }
 },
 "nbformat": 4,
 "nbformat_minor": 2
}
